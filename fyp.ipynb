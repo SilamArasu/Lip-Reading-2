{
  "nbformat": 4,
  "nbformat_minor": 0,
  "metadata": {
    "colab": {
      "name": "fyp.ipynb",
      "provenance": [],
      "collapsed_sections": [],
      "authorship_tag": "ABX9TyPC6jaG+1mWWUK3DGtvgn/m",
      "include_colab_link": true
    },
    "kernelspec": {
      "name": "python3",
      "display_name": "Python 3"
    },
    "accelerator": "GPU"
  },
  "cells": [
    {
      "cell_type": "markdown",
      "metadata": {
        "id": "view-in-github",
        "colab_type": "text"
      },
      "source": [
        "<a href=\"https://colab.research.google.com/github/SilamArasu/Lip-Reading-2/blob/master/fyp.ipynb\" target=\"_parent\"><img src=\"https://colab.research.google.com/assets/colab-badge.svg\" alt=\"Open In Colab\"/></a>"
      ]
    },
    {
      "cell_type": "code",
      "metadata": {
        "id": "2Tw05SW-HlTQ",
        "colab_type": "code",
        "outputId": "4d6554c1-c6ac-47fa-bbe8-55be0ba5af20",
        "colab": {
          "base_uri": "https://localhost:8080/",
          "height": 118
        }
      },
      "source": [
        "from google.colab import drive\n",
        "drive.mount('/content/drive')"
      ],
      "execution_count": 0,
      "outputs": [
        {
          "output_type": "stream",
          "text": [
            "Go to this URL in a browser: https://accounts.google.com/o/oauth2/auth?client_id=947318989803-6bn6qk8qdgf4n4g3pfee6491hc0brc4i.apps.googleusercontent.com&redirect_uri=urn%3aietf%3awg%3aoauth%3a2.0%3aoob&response_type=code&scope=email%20https%3a%2f%2fwww.googleapis.com%2fauth%2fdocs.test%20https%3a%2f%2fwww.googleapis.com%2fauth%2fdrive%20https%3a%2f%2fwww.googleapis.com%2fauth%2fdrive.photos.readonly%20https%3a%2f%2fwww.googleapis.com%2fauth%2fpeopleapi.readonly\n",
            "\n",
            "Enter your authorization code:\n",
            "··········\n",
            "Mounted at /content/drive\n"
          ],
          "name": "stdout"
        }
      ]
    },
    {
      "cell_type": "code",
      "metadata": {
        "id": "cEuEQiuony3I",
        "colab_type": "code",
        "colab": {}
      },
      "source": [
        "!tar -xf '/content/drive/My Drive/datasets.tar.xz'"
      ],
      "execution_count": 0,
      "outputs": []
    },
    {
      "cell_type": "code",
      "metadata": {
        "id": "ZP7QrtT3LhOJ",
        "colab_type": "code",
        "colab": {}
      },
      "source": [
        "!unzip '/content/drive/My Drive/colabtest_mar9_7pm.zip'"
      ],
      "execution_count": 0,
      "outputs": []
    },
    {
      "cell_type": "code",
      "metadata": {
        "id": "Tp4T_JGULw_D",
        "colab_type": "code",
        "colab": {}
      },
      "source": [
        "!rm -rf '/content/LipReadingGUI'"
      ],
      "execution_count": 0,
      "outputs": []
    },
    {
      "cell_type": "code",
      "metadata": {
        "id": "zqvhUDfyEJP8",
        "colab_type": "code",
        "outputId": "28c3d7d1-923d-4371-f659-8b01680e8c68",
        "colab": {
          "base_uri": "https://localhost:8080/",
          "height": 131
        }
      },
      "source": [
        "!git clone -b simplification https://github.com/SilamArasu/Lip-Reading-2.git"
      ],
      "execution_count": 0,
      "outputs": [
        {
          "output_type": "stream",
          "text": [
            "Cloning into 'Lip-Reading-2'...\n",
            "remote: Enumerating objects: 944, done.\u001b[K\n",
            "remote: Counting objects:   0% (1/944)\u001b[K\rremote: Counting objects:   1% (10/944)\u001b[K\rremote: Counting objects:   2% (19/944)\u001b[K\rremote: Counting objects:   3% (29/944)\u001b[K\rremote: Counting objects:   4% (38/944)\u001b[K\rremote: Counting objects:   5% (48/944)\u001b[K\rremote: Counting objects:   6% (57/944)\u001b[K\rremote: Counting objects:   7% (67/944)\u001b[K\rremote: Counting objects:   8% (76/944)\u001b[K\rremote: Counting objects:   9% (85/944)\u001b[K\rremote: Counting objects:  10% (95/944)\u001b[K\rremote: Counting objects:  11% (104/944)\u001b[K\rremote: Counting objects:  12% (114/944)\u001b[K\rremote: Counting objects:  13% (123/944)\u001b[K\rremote: Counting objects:  14% (133/944)\u001b[K\rremote: Counting objects:  15% (142/944)\u001b[K\rremote: Counting objects:  16% (152/944)\u001b[K\rremote: Counting objects:  17% (161/944)\u001b[K\rremote: Counting objects:  18% (170/944)\u001b[K\rremote: Counting objects:  19% (180/944)\u001b[K\rremote: Counting objects:  20% (189/944)\u001b[K\rremote: Counting objects:  21% (199/944)\u001b[K\rremote: Counting objects:  22% (208/944)\u001b[K\rremote: Counting objects:  23% (218/944)\u001b[K\rremote: Counting objects:  24% (227/944)\u001b[K\rremote: Counting objects:  25% (236/944)\u001b[K\rremote: Counting objects:  26% (246/944)\u001b[K\rremote: Counting objects:  27% (255/944)\u001b[K\rremote: Counting objects:  28% (265/944)\u001b[K\rremote: Counting objects:  29% (274/944)\u001b[K\rremote: Counting objects:  30% (284/944)\u001b[K\rremote: Counting objects:  31% (293/944)\u001b[K\rremote: Counting objects:  32% (303/944)\u001b[K\rremote: Counting objects:  33% (312/944)\u001b[K\rremote: Counting objects:  34% (321/944)\u001b[K\rremote: Counting objects:  35% (331/944)\u001b[K\rremote: Counting objects:  36% (340/944)\u001b[K\rremote: Counting objects:  37% (350/944)\u001b[K\rremote: Counting objects:  38% (359/944)\u001b[K\rremote: Counting objects:  39% (369/944)\u001b[K\rremote: Counting objects:  40% (378/944)\u001b[K\rremote: Counting objects:  41% (388/944)\u001b[K\rremote: Counting objects:  42% (397/944)\u001b[K\rremote: Counting objects:  43% (406/944)\u001b[K\rremote: Counting objects:  44% (416/944)\u001b[K\rremote: Counting objects:  45% (425/944)\u001b[K\rremote: Counting objects:  46% (435/944)\u001b[K\rremote: Counting objects:  47% (444/944)\u001b[K\rremote: Counting objects:  48% (454/944)\u001b[K\rremote: Counting objects:  49% (463/944)\u001b[K\rremote: Counting objects:  50% (472/944)\u001b[K\rremote: Counting objects:  51% (482/944)\u001b[K\rremote: Counting objects:  52% (491/944)\u001b[K\rremote: Counting objects:  53% (501/944)\u001b[K\rremote: Counting objects:  54% (510/944)\u001b[K\rremote: Counting objects:  55% (520/944)\u001b[K\rremote: Counting objects:  56% (529/944)\u001b[K\rremote: Counting objects:  57% (539/944)\u001b[K\rremote: Counting objects:  58% (548/944)\u001b[K\rremote: Counting objects:  59% (557/944)\u001b[K\rremote: Counting objects:  60% (567/944)\u001b[K\rremote: Counting objects:  61% (576/944)\u001b[K\rremote: Counting objects:  62% (586/944)\u001b[K\rremote: Counting objects:  63% (595/944)\u001b[K\rremote: Counting objects:  64% (605/944)\u001b[K\rremote: Counting objects:  65% (614/944)\u001b[K\rremote: Counting objects:  66% (624/944)\u001b[K\rremote: Counting objects:  67% (633/944)\u001b[K\rremote: Counting objects:  68% (642/944)\u001b[K\rremote: Counting objects:  69% (652/944)\u001b[K\rremote: Counting objects:  70% (661/944)\u001b[K\rremote: Counting objects:  71% (671/944)\u001b[K\rremote: Counting objects:  72% (680/944)\u001b[K\rremote: Counting objects:  73% (690/944)\u001b[K\rremote: Counting objects:  74% (699/944)\u001b[K\rremote: Counting objects:  75% (708/944)\u001b[K\rremote: Counting objects:  76% (718/944)\u001b[K\rremote: Counting objects:  77% (727/944)\u001b[K\rremote: Counting objects:  78% (737/944)\u001b[K\rremote: Counting objects:  79% (746/944)\u001b[K\rremote: Counting objects:  80% (756/944)\u001b[K\rremote: Counting objects:  81% (765/944)\u001b[K\rremote: Counting objects:  82% (775/944)\u001b[K\rremote: Counting objects:  83% (784/944)\u001b[K\rremote: Counting objects:  84% (793/944)\u001b[K\rremote: Counting objects:  85% (803/944)\u001b[K\rremote: Counting objects:  86% (812/944)\u001b[K\rremote: Counting objects:  87% (822/944)\u001b[K\rremote: Counting objects:  88% (831/944)\u001b[K\rremote: Counting objects:  89% (841/944)\u001b[K\rremote: Counting objects:  90% (850/944)\u001b[K\rremote: Counting objects:  91% (860/944)\u001b[K\rremote: Counting objects:  92% (869/944)\u001b[K\rremote: Counting objects:  93% (878/944)\u001b[K\rremote: Counting objects:  94% (888/944)\u001b[K\rremote: Counting objects:  95% (897/944)\u001b[K\rremote: Counting objects:  96% (907/944)\u001b[K\rremote: Counting objects:  97% (916/944)\u001b[K\rremote: Counting objects:  98% (926/944)\u001b[K\rremote: Counting objects:  99% (935/944)\u001b[K\rremote: Counting objects: 100% (944/944)\u001b[K\rremote: Counting objects: 100% (944/944), done.\u001b[K\n",
            "remote: Compressing objects: 100% (906/906), done.\u001b[K\n",
            "remote: Total 944 (delta 45), reused 930 (delta 31), pack-reused 0\u001b[K\n",
            "Receiving objects: 100% (944/944), 5.72 MiB | 4.56 MiB/s, done.\n",
            "Resolving deltas: 100% (45/45), done.\n"
          ],
          "name": "stdout"
        }
      ]
    },
    {
      "cell_type": "code",
      "metadata": {
        "id": "snRH_RJ_y-V2",
        "colab_type": "code",
        "outputId": "ae21198c-30ee-4e51-d2a9-5f305fea2976",
        "colab": {
          "base_uri": "https://localhost:8080/",
          "height": 33
        }
      },
      "source": [
        "!git branch"
      ],
      "execution_count": 0,
      "outputs": [
        {
          "output_type": "stream",
          "text": [
            "* \u001b[32msimplification\u001b[m\n"
          ],
          "name": "stdout"
        }
      ]
    },
    {
      "cell_type": "code",
      "metadata": {
        "id": "0a6WOrFfTMVV",
        "colab_type": "code",
        "outputId": "5aad7c80-18d6-4ddd-a044-b7182d5f6e62",
        "colab": {
          "base_uri": "https://localhost:8080/",
          "height": 119
        }
      },
      "source": [
        "!git clone https://github.com/Abishalini/LipReadingGUI.git"
      ],
      "execution_count": 0,
      "outputs": [
        {
          "output_type": "stream",
          "text": [
            "Cloning into 'LipReadingGUI'...\n",
            "remote: Enumerating objects: 993, done.\u001b[K\n",
            "remote: Total 993 (delta 0), reused 0 (delta 0), pack-reused 993\u001b[K\n",
            "Receiving objects: 100% (993/993), 131.18 MiB | 26.60 MiB/s, done.\n",
            "Resolving deltas: 100% (50/50), done.\n",
            "Checking out files: 100% (1004/1004), done.\n"
          ],
          "name": "stdout"
        }
      ]
    },
    {
      "cell_type": "code",
      "metadata": {
        "id": "OQYldbYjKY3F",
        "colab_type": "code",
        "colab": {}
      },
      "source": [
        "%cd '/content'"
      ],
      "execution_count": 0,
      "outputs": []
    },
    {
      "cell_type": "code",
      "metadata": {
        "id": "PgSEWUO7TabI",
        "colab_type": "code",
        "outputId": "59039ecb-5ad6-46c7-dcbc-1fde7ed441ce",
        "colab": {
          "base_uri": "https://localhost:8080/",
          "height": 33
        }
      },
      "source": [
        "%cd '/content/Lip-Reading-2'"
      ],
      "execution_count": 0,
      "outputs": [
        {
          "output_type": "stream",
          "text": [
            "/content/Lip-Reading-2\n"
          ],
          "name": "stdout"
        }
      ]
    },
    {
      "cell_type": "code",
      "metadata": {
        "id": "pYulsfgpp_8M",
        "colab_type": "code",
        "colab": {}
      },
      "source": [
        "!rm -rf '/content/Lip-Reading-2/datasets'"
      ],
      "execution_count": 0,
      "outputs": []
    },
    {
      "cell_type": "code",
      "metadata": {
        "id": "wWECdnv5EXyo",
        "colab_type": "code",
        "outputId": "47507c5a-0421-4c0b-b2cf-8a086505c5d9",
        "colab": {
          "base_uri": "https://localhost:8080/",
          "height": 34
        }
      },
      "source": [
        "%cd Lip-Reading-2/"
      ],
      "execution_count": 0,
      "outputs": [
        {
          "output_type": "stream",
          "text": [
            "/content/Lip-Reading-2\n"
          ],
          "name": "stdout"
        }
      ]
    },
    {
      "cell_type": "code",
      "metadata": {
        "id": "fTuLEaLPUHEi",
        "colab_type": "code",
        "outputId": "2a3cf6c4-0252-4d1a-a351-11b967f3f968",
        "colab": {
          "base_uri": "https://localhost:8080/",
          "height": 34
        }
      },
      "source": [
        "%cd /content"
      ],
      "execution_count": 0,
      "outputs": [
        {
          "output_type": "stream",
          "text": [
            "/content\n"
          ],
          "name": "stdout"
        }
      ]
    },
    {
      "cell_type": "code",
      "metadata": {
        "id": "LrYRegkVMHxR",
        "colab_type": "code",
        "outputId": "fe000829-8c38-4c2e-a5d4-87b7264f8381",
        "colab": {
          "base_uri": "https://localhost:8080/",
          "height": 51
        }
      },
      "source": [
        "%cd training/"
      ],
      "execution_count": 0,
      "outputs": [
        {
          "output_type": "stream",
          "text": [
            "[Errno 2] No such file or directory: 'training/'\n",
            "/content\n"
          ],
          "name": "stdout"
        }
      ]
    },
    {
      "cell_type": "code",
      "metadata": {
        "id": "112J14pIPaGV",
        "colab_type": "code",
        "outputId": "70f5f53a-3f47-45ad-c8bc-16765c30b6b0",
        "colab": {
          "base_uri": "https://localhost:8080/",
          "height": 54
        }
      },
      "source": [
        "%ls"
      ],
      "execution_count": 0,
      "outputs": [
        {
          "output_type": "stream",
          "text": [
            "shell-init: error retrieving current directory: getcwd: cannot access parent directories: No such file or directory\n"
          ],
          "name": "stdout"
        }
      ]
    },
    {
      "cell_type": "code",
      "metadata": {
        "id": "fqx0FzF5MMe_",
        "colab_type": "code",
        "outputId": "a17175ae-dad8-4d09-8224-44dbac61454f",
        "colab": {
          "base_uri": "https://localhost:8080/",
          "height": 346
        }
      },
      "source": [
        "!pip3 install scikit-video\n",
        "!pip3 install scipy==1.1.0"
      ],
      "execution_count": 0,
      "outputs": [
        {
          "output_type": "stream",
          "text": [
            "Collecting scikit-video\n",
            "\u001b[?25l  Downloading https://files.pythonhosted.org/packages/b1/a6/c69cad508139a342810ae46e946ebb3256aa6e42f690d901bb68f50582e3/scikit_video-1.1.11-py2.py3-none-any.whl (2.3MB)\n",
            "\r\u001b[K     |▏                               | 10kB 30.7MB/s eta 0:00:01\r\u001b[K     |▎                               | 20kB 39.0MB/s eta 0:00:01\r\u001b[K     |▍                               | 30kB 31.8MB/s eta 0:00:01\r\u001b[K     |▋                               | 40kB 21.4MB/s eta 0:00:01\r\u001b[K     |▊                               | 51kB 18.6MB/s eta 0:00:01\r\u001b[K     |▉                               | 61kB 17.4MB/s eta 0:00:01\r\u001b[K     |█                               | 71kB 17.4MB/s eta 0:00:01\r\u001b[K     |█▏                              | 81kB 17.5MB/s eta 0:00:01\r\u001b[K     |█▎                              | 92kB 17.3MB/s eta 0:00:01\r\u001b[K     |█▌                              | 102kB 17.6MB/s eta 0:00:01\r\u001b[K     |█▋                              | 112kB 17.6MB/s eta 0:00:01\r\u001b[K     |█▊                              | 122kB 17.6MB/s eta 0:00:01\r\u001b[K     |██                              | 133kB 17.6MB/s eta 0:00:01\r\u001b[K     |██                              | 143kB 17.6MB/s eta 0:00:01\r\u001b[K     |██▏                             | 153kB 17.6MB/s eta 0:00:01\r\u001b[K     |██▎                             | 163kB 17.6MB/s eta 0:00:01\r\u001b[K     |██▌                             | 174kB 17.6MB/s eta 0:00:01\r\u001b[K     |██▋                             | 184kB 17.6MB/s eta 0:00:01\r\u001b[K     |██▊                             | 194kB 17.6MB/s eta 0:00:01\r\u001b[K     |███                             | 204kB 17.6MB/s eta 0:00:01\r\u001b[K     |███                             | 215kB 17.6MB/s eta 0:00:01\r\u001b[K     |███▏                            | 225kB 17.6MB/s eta 0:00:01\r\u001b[K     |███▍                            | 235kB 17.6MB/s eta 0:00:01\r\u001b[K     |███▌                            | 245kB 17.6MB/s eta 0:00:01\r\u001b[K     |███▋                            | 256kB 17.6MB/s eta 0:00:01\r\u001b[K     |███▉                            | 266kB 17.6MB/s eta 0:00:01\r\u001b[K     |████                            | 276kB 17.6MB/s eta 0:00:01\r\u001b[K     |████                            | 286kB 17.6MB/s eta 0:00:01\r\u001b[K     |████▏                           | 296kB 17.6MB/s eta 0:00:01\r\u001b[K     |████▍                           | 307kB 17.6MB/s eta 0:00:01\r\u001b[K     |████▌                           | 317kB 17.6MB/s eta 0:00:01\r\u001b[K     |████▋                           | 327kB 17.6MB/s eta 0:00:01\r\u001b[K     |████▉                           | 337kB 17.6MB/s eta 0:00:01\r\u001b[K     |█████                           | 348kB 17.6MB/s eta 0:00:01\r\u001b[K     |█████                           | 358kB 17.6MB/s eta 0:00:01\r\u001b[K     |█████▎                          | 368kB 17.6MB/s eta 0:00:01\r\u001b[K     |█████▍                          | 378kB 17.6MB/s eta 0:00:01\r\u001b[K     |█████▌                          | 389kB 17.6MB/s eta 0:00:01\r\u001b[K     |█████▊                          | 399kB 17.6MB/s eta 0:00:01\r\u001b[K     |█████▉                          | 409kB 17.6MB/s eta 0:00:01\r\u001b[K     |██████                          | 419kB 17.6MB/s eta 0:00:01\r\u001b[K     |██████                          | 430kB 17.6MB/s eta 0:00:01\r\u001b[K     |██████▎                         | 440kB 17.6MB/s eta 0:00:01\r\u001b[K     |██████▍                         | 450kB 17.6MB/s eta 0:00:01\r\u001b[K     |██████▌                         | 460kB 17.6MB/s eta 0:00:01\r\u001b[K     |██████▊                         | 471kB 17.6MB/s eta 0:00:01\r\u001b[K     |██████▉                         | 481kB 17.6MB/s eta 0:00:01\r\u001b[K     |███████                         | 491kB 17.6MB/s eta 0:00:01\r\u001b[K     |███████▏                        | 501kB 17.6MB/s eta 0:00:01\r\u001b[K     |███████▎                        | 512kB 17.6MB/s eta 0:00:01\r\u001b[K     |███████▍                        | 522kB 17.6MB/s eta 0:00:01\r\u001b[K     |███████▋                        | 532kB 17.6MB/s eta 0:00:01\r\u001b[K     |███████▊                        | 542kB 17.6MB/s eta 0:00:01\r\u001b[K     |███████▉                        | 552kB 17.6MB/s eta 0:00:01\r\u001b[K     |████████                        | 563kB 17.6MB/s eta 0:00:01\r\u001b[K     |████████▏                       | 573kB 17.6MB/s eta 0:00:01\r\u001b[K     |████████▎                       | 583kB 17.6MB/s eta 0:00:01\r\u001b[K     |████████▍                       | 593kB 17.6MB/s eta 0:00:01\r\u001b[K     |████████▋                       | 604kB 17.6MB/s eta 0:00:01\r\u001b[K     |████████▊                       | 614kB 17.6MB/s eta 0:00:01\r\u001b[K     |████████▉                       | 624kB 17.6MB/s eta 0:00:01\r\u001b[K     |█████████                       | 634kB 17.6MB/s eta 0:00:01\r\u001b[K     |█████████▏                      | 645kB 17.6MB/s eta 0:00:01\r\u001b[K     |█████████▎                      | 655kB 17.6MB/s eta 0:00:01\r\u001b[K     |█████████▌                      | 665kB 17.6MB/s eta 0:00:01\r\u001b[K     |█████████▋                      | 675kB 17.6MB/s eta 0:00:01\r\u001b[K     |█████████▊                      | 686kB 17.6MB/s eta 0:00:01\r\u001b[K     |█████████▉                      | 696kB 17.6MB/s eta 0:00:01\r\u001b[K     |██████████                      | 706kB 17.6MB/s eta 0:00:01\r\u001b[K     |██████████▏                     | 716kB 17.6MB/s eta 0:00:01\r\u001b[K     |██████████▎                     | 727kB 17.6MB/s eta 0:00:01\r\u001b[K     |██████████▌                     | 737kB 17.6MB/s eta 0:00:01\r\u001b[K     |██████████▋                     | 747kB 17.6MB/s eta 0:00:01\r\u001b[K     |██████████▊                     | 757kB 17.6MB/s eta 0:00:01\r\u001b[K     |███████████                     | 768kB 17.6MB/s eta 0:00:01\r\u001b[K     |███████████                     | 778kB 17.6MB/s eta 0:00:01\r\u001b[K     |███████████▏                    | 788kB 17.6MB/s eta 0:00:01\r\u001b[K     |███████████▍                    | 798kB 17.6MB/s eta 0:00:01\r\u001b[K     |███████████▌                    | 808kB 17.6MB/s eta 0:00:01\r\u001b[K     |███████████▋                    | 819kB 17.6MB/s eta 0:00:01\r\u001b[K     |███████████▊                    | 829kB 17.6MB/s eta 0:00:01\r\u001b[K     |████████████                    | 839kB 17.6MB/s eta 0:00:01\r\u001b[K     |████████████                    | 849kB 17.6MB/s eta 0:00:01\r\u001b[K     |████████████▏                   | 860kB 17.6MB/s eta 0:00:01\r\u001b[K     |████████████▍                   | 870kB 17.6MB/s eta 0:00:01\r\u001b[K     |████████████▌                   | 880kB 17.6MB/s eta 0:00:01\r\u001b[K     |████████████▋                   | 890kB 17.6MB/s eta 0:00:01\r\u001b[K     |████████████▉                   | 901kB 17.6MB/s eta 0:00:01\r\u001b[K     |█████████████                   | 911kB 17.6MB/s eta 0:00:01\r\u001b[K     |█████████████                   | 921kB 17.6MB/s eta 0:00:01\r\u001b[K     |█████████████▎                  | 931kB 17.6MB/s eta 0:00:01\r\u001b[K     |█████████████▍                  | 942kB 17.6MB/s eta 0:00:01\r\u001b[K     |█████████████▌                  | 952kB 17.6MB/s eta 0:00:01\r\u001b[K     |█████████████▋                  | 962kB 17.6MB/s eta 0:00:01\r\u001b[K     |█████████████▉                  | 972kB 17.6MB/s eta 0:00:01\r\u001b[K     |██████████████                  | 983kB 17.6MB/s eta 0:00:01\r\u001b[K     |██████████████                  | 993kB 17.6MB/s eta 0:00:01\r\u001b[K     |██████████████▎                 | 1.0MB 17.6MB/s eta 0:00:01\r\u001b[K     |██████████████▍                 | 1.0MB 17.6MB/s eta 0:00:01\r\u001b[K     |██████████████▌                 | 1.0MB 17.6MB/s eta 0:00:01\r\u001b[K     |██████████████▊                 | 1.0MB 17.6MB/s eta 0:00:01\r\u001b[K     |██████████████▉                 | 1.0MB 17.6MB/s eta 0:00:01\r\u001b[K     |███████████████                 | 1.1MB 17.6MB/s eta 0:00:01\r\u001b[K     |███████████████▏                | 1.1MB 17.6MB/s eta 0:00:01\r\u001b[K     |███████████████▎                | 1.1MB 17.6MB/s eta 0:00:01\r\u001b[K     |███████████████▍                | 1.1MB 17.6MB/s eta 0:00:01\r\u001b[K     |███████████████▌                | 1.1MB 17.6MB/s eta 0:00:01\r\u001b[K     |███████████████▊                | 1.1MB 17.6MB/s eta 0:00:01\r\u001b[K     |███████████████▉                | 1.1MB 17.6MB/s eta 0:00:01\r\u001b[K     |████████████████                | 1.1MB 17.6MB/s eta 0:00:01\r\u001b[K     |████████████████▏               | 1.1MB 17.6MB/s eta 0:00:01\r\u001b[K     |████████████████▎               | 1.1MB 17.6MB/s eta 0:00:01\r\u001b[K     |████████████████▍               | 1.2MB 17.6MB/s eta 0:00:01\r\u001b[K     |████████████████▋               | 1.2MB 17.6MB/s eta 0:00:01\r\u001b[K     |████████████████▊               | 1.2MB 17.6MB/s eta 0:00:01\r\u001b[K     |████████████████▉               | 1.2MB 17.6MB/s eta 0:00:01\r\u001b[K     |█████████████████               | 1.2MB 17.6MB/s eta 0:00:01\r\u001b[K     |█████████████████▏              | 1.2MB 17.6MB/s eta 0:00:01\r\u001b[K     |█████████████████▎              | 1.2MB 17.6MB/s eta 0:00:01\r\u001b[K     |█████████████████▍              | 1.2MB 17.6MB/s eta 0:00:01\r\u001b[K     |█████████████████▋              | 1.2MB 17.6MB/s eta 0:00:01\r\u001b[K     |█████████████████▊              | 1.2MB 17.6MB/s eta 0:00:01\r\u001b[K     |█████████████████▉              | 1.3MB 17.6MB/s eta 0:00:01\r\u001b[K     |██████████████████              | 1.3MB 17.6MB/s eta 0:00:01\r\u001b[K     |██████████████████▏             | 1.3MB 17.6MB/s eta 0:00:01\r\u001b[K     |██████████████████▎             | 1.3MB 17.6MB/s eta 0:00:01\r\u001b[K     |██████████████████▌             | 1.3MB 17.6MB/s eta 0:00:01\r\u001b[K     |██████████████████▋             | 1.3MB 17.6MB/s eta 0:00:01\r\u001b[K     |██████████████████▊             | 1.3MB 17.6MB/s eta 0:00:01\r\u001b[K     |███████████████████             | 1.3MB 17.6MB/s eta 0:00:01\r\u001b[K     |███████████████████             | 1.3MB 17.6MB/s eta 0:00:01\r\u001b[K     |███████████████████▏            | 1.4MB 17.6MB/s eta 0:00:01\r\u001b[K     |███████████████████▎            | 1.4MB 17.6MB/s eta 0:00:01\r\u001b[K     |███████████████████▌            | 1.4MB 17.6MB/s eta 0:00:01\r\u001b[K     |███████████████████▋            | 1.4MB 17.6MB/s eta 0:00:01\r\u001b[K     |███████████████████▊            | 1.4MB 17.6MB/s eta 0:00:01\r\u001b[K     |████████████████████            | 1.4MB 17.6MB/s eta 0:00:01\r\u001b[K     |████████████████████            | 1.4MB 17.6MB/s eta 0:00:01\r\u001b[K     |████████████████████▏           | 1.4MB 17.6MB/s eta 0:00:01\r\u001b[K     |████████████████████▍           | 1.4MB 17.6MB/s eta 0:00:01\r\u001b[K     |████████████████████▌           | 1.4MB 17.6MB/s eta 0:00:01\r\u001b[K     |████████████████████▋           | 1.5MB 17.6MB/s eta 0:00:01\r\u001b[K     |████████████████████▉           | 1.5MB 17.6MB/s eta 0:00:01\r\u001b[K     |█████████████████████           | 1.5MB 17.6MB/s eta 0:00:01\r\u001b[K     |█████████████████████           | 1.5MB 17.6MB/s eta 0:00:01\r\u001b[K     |█████████████████████▏          | 1.5MB 17.6MB/s eta 0:00:01\r\u001b[K     |█████████████████████▍          | 1.5MB 17.6MB/s eta 0:00:01\r\u001b[K     |█████████████████████▌          | 1.5MB 17.6MB/s eta 0:00:01\r\u001b[K     |█████████████████████▋          | 1.5MB 17.6MB/s eta 0:00:01\r\u001b[K     |█████████████████████▉          | 1.5MB 17.6MB/s eta 0:00:01\r\u001b[K     |██████████████████████          | 1.5MB 17.6MB/s eta 0:00:01\r\u001b[K     |██████████████████████          | 1.6MB 17.6MB/s eta 0:00:01\r\u001b[K     |██████████████████████▎         | 1.6MB 17.6MB/s eta 0:00:01\r\u001b[K     |██████████████████████▍         | 1.6MB 17.6MB/s eta 0:00:01\r\u001b[K     |██████████████████████▌         | 1.6MB 17.6MB/s eta 0:00:01\r\u001b[K     |██████████████████████▊         | 1.6MB 17.6MB/s eta 0:00:01\r\u001b[K     |██████████████████████▉         | 1.6MB 17.6MB/s eta 0:00:01\r\u001b[K     |███████████████████████         | 1.6MB 17.6MB/s eta 0:00:01\r\u001b[K     |███████████████████████         | 1.6MB 17.6MB/s eta 0:00:01\r\u001b[K     |███████████████████████▎        | 1.6MB 17.6MB/s eta 0:00:01\r\u001b[K     |███████████████████████▍        | 1.6MB 17.6MB/s eta 0:00:01\r\u001b[K     |███████████████████████▌        | 1.7MB 17.6MB/s eta 0:00:01\r\u001b[K     |███████████████████████▊        | 1.7MB 17.6MB/s eta 0:00:01\r\u001b[K     |███████████████████████▉        | 1.7MB 17.6MB/s eta 0:00:01\r\u001b[K     |████████████████████████        | 1.7MB 17.6MB/s eta 0:00:01\r\u001b[K     |████████████████████████▏       | 1.7MB 17.6MB/s eta 0:00:01\r\u001b[K     |████████████████████████▎       | 1.7MB 17.6MB/s eta 0:00:01\r\u001b[K     |████████████████████████▍       | 1.7MB 17.6MB/s eta 0:00:01\r\u001b[K     |████████████████████████▋       | 1.7MB 17.6MB/s eta 0:00:01\r\u001b[K     |████████████████████████▊       | 1.7MB 17.6MB/s eta 0:00:01\r\u001b[K     |████████████████████████▉       | 1.8MB 17.6MB/s eta 0:00:01\r\u001b[K     |█████████████████████████       | 1.8MB 17.6MB/s eta 0:00:01\r\u001b[K     |█████████████████████████▏      | 1.8MB 17.6MB/s eta 0:00:01\r\u001b[K     |█████████████████████████▎      | 1.8MB 17.6MB/s eta 0:00:01\r\u001b[K     |█████████████████████████▍      | 1.8MB 17.6MB/s eta 0:00:01\r\u001b[K     |█████████████████████████▋      | 1.8MB 17.6MB/s eta 0:00:01\r\u001b[K     |█████████████████████████▊      | 1.8MB 17.6MB/s eta 0:00:01\r\u001b[K     |█████████████████████████▉      | 1.8MB 17.6MB/s eta 0:00:01\r\u001b[K     |██████████████████████████      | 1.8MB 17.6MB/s eta 0:00:01\r\u001b[K     |██████████████████████████▏     | 1.8MB 17.6MB/s eta 0:00:01\r\u001b[K     |██████████████████████████▎     | 1.9MB 17.6MB/s eta 0:00:01\r\u001b[K     |██████████████████████████▌     | 1.9MB 17.6MB/s eta 0:00:01\r\u001b[K     |██████████████████████████▋     | 1.9MB 17.6MB/s eta 0:00:01\r\u001b[K     |██████████████████████████▊     | 1.9MB 17.6MB/s eta 0:00:01\r\u001b[K     |██████████████████████████▉     | 1.9MB 17.6MB/s eta 0:00:01\r\u001b[K     |███████████████████████████     | 1.9MB 17.6MB/s eta 0:00:01\r\u001b[K     |███████████████████████████▏    | 1.9MB 17.6MB/s eta 0:00:01\r\u001b[K     |███████████████████████████▎    | 1.9MB 17.6MB/s eta 0:00:01\r\u001b[K     |███████████████████████████▌    | 1.9MB 17.6MB/s eta 0:00:01\r\u001b[K     |███████████████████████████▋    | 1.9MB 17.6MB/s eta 0:00:01\r\u001b[K     |███████████████████████████▊    | 2.0MB 17.6MB/s eta 0:00:01\r\u001b[K     |████████████████████████████    | 2.0MB 17.6MB/s eta 0:00:01\r\u001b[K     |████████████████████████████    | 2.0MB 17.6MB/s eta 0:00:01\r\u001b[K     |████████████████████████████▏   | 2.0MB 17.6MB/s eta 0:00:01\r\u001b[K     |████████████████████████████▍   | 2.0MB 17.6MB/s eta 0:00:01\r\u001b[K     |████████████████████████████▌   | 2.0MB 17.6MB/s eta 0:00:01\r\u001b[K     |████████████████████████████▋   | 2.0MB 17.6MB/s eta 0:00:01\r\u001b[K     |████████████████████████████▊   | 2.0MB 17.6MB/s eta 0:00:01\r\u001b[K     |█████████████████████████████   | 2.0MB 17.6MB/s eta 0:00:01\r\u001b[K     |█████████████████████████████   | 2.0MB 17.6MB/s eta 0:00:01\r\u001b[K     |█████████████████████████████▏  | 2.1MB 17.6MB/s eta 0:00:01\r\u001b[K     |█████████████████████████████▍  | 2.1MB 17.6MB/s eta 0:00:01\r\u001b[K     |█████████████████████████████▌  | 2.1MB 17.6MB/s eta 0:00:01\r\u001b[K     |█████████████████████████████▋  | 2.1MB 17.6MB/s eta 0:00:01\r\u001b[K     |█████████████████████████████▉  | 2.1MB 17.6MB/s eta 0:00:01\r\u001b[K     |██████████████████████████████  | 2.1MB 17.6MB/s eta 0:00:01\r\u001b[K     |██████████████████████████████  | 2.1MB 17.6MB/s eta 0:00:01\r\u001b[K     |██████████████████████████████▎ | 2.1MB 17.6MB/s eta 0:00:01\r\u001b[K     |██████████████████████████████▍ | 2.1MB 17.6MB/s eta 0:00:01\r\u001b[K     |██████████████████████████████▌ | 2.2MB 17.6MB/s eta 0:00:01\r\u001b[K     |██████████████████████████████▋ | 2.2MB 17.6MB/s eta 0:00:01\r\u001b[K     |██████████████████████████████▉ | 2.2MB 17.6MB/s eta 0:00:01\r\u001b[K     |███████████████████████████████ | 2.2MB 17.6MB/s eta 0:00:01\r\u001b[K     |███████████████████████████████ | 2.2MB 17.6MB/s eta 0:00:01\r\u001b[K     |███████████████████████████████▎| 2.2MB 17.6MB/s eta 0:00:01\r\u001b[K     |███████████████████████████████▍| 2.2MB 17.6MB/s eta 0:00:01\r\u001b[K     |███████████████████████████████▌| 2.2MB 17.6MB/s eta 0:00:01\r\u001b[K     |███████████████████████████████▊| 2.2MB 17.6MB/s eta 0:00:01\r\u001b[K     |███████████████████████████████▉| 2.2MB 17.6MB/s eta 0:00:01\r\u001b[K     |████████████████████████████████| 2.3MB 17.6MB/s eta 0:00:01\r\u001b[K     |████████████████████████████████| 2.3MB 17.6MB/s \n",
            "\u001b[?25hRequirement already satisfied: scipy in /usr/local/lib/python3.6/dist-packages (from scikit-video) (1.4.1)\n",
            "Requirement already satisfied: pillow in /usr/local/lib/python3.6/dist-packages (from scikit-video) (6.2.2)\n",
            "Requirement already satisfied: numpy in /usr/local/lib/python3.6/dist-packages (from scikit-video) (1.17.5)\n",
            "Installing collected packages: scikit-video\n",
            "Successfully installed scikit-video-1.1.11\n",
            "Collecting scipy==1.1.0\n",
            "\u001b[?25l  Downloading https://files.pythonhosted.org/packages/a8/0b/f163da98d3a01b3e0ef1cab8dd2123c34aee2bafbb1c5bffa354cc8a1730/scipy-1.1.0-cp36-cp36m-manylinux1_x86_64.whl (31.2MB)\n",
            "\u001b[K     |████████████████████████████████| 31.2MB 103kB/s \n",
            "\u001b[?25hRequirement already satisfied: numpy>=1.8.2 in /usr/local/lib/python3.6/dist-packages (from scipy==1.1.0) (1.17.5)\n",
            "\u001b[31mERROR: plotnine 0.6.0 has requirement scipy>=1.2.0, but you'll have scipy 1.1.0 which is incompatible.\u001b[0m\n",
            "\u001b[31mERROR: albumentations 0.1.12 has requirement imgaug<0.2.7,>=0.2.5, but you'll have imgaug 0.2.9 which is incompatible.\u001b[0m\n",
            "Installing collected packages: scipy\n",
            "  Found existing installation: scipy 1.4.1\n",
            "    Uninstalling scipy-1.4.1:\n",
            "      Successfully uninstalled scipy-1.4.1\n",
            "Successfully installed scipy-1.1.0\n"
          ],
          "name": "stdout"
        }
      ]
    },
    {
      "cell_type": "code",
      "metadata": {
        "id": "1nTvV9OfQ_Ta",
        "colab_type": "code",
        "outputId": "36e9c67e-e7db-427d-c19b-f88b682bc1bd",
        "colab": {
          "base_uri": "https://localhost:8080/",
          "height": 34
        }
      },
      "source": [
        "import gc\n",
        "gc.collect()"
      ],
      "execution_count": 0,
      "outputs": [
        {
          "output_type": "execute_result",
          "data": {
            "text/plain": [
              "0"
            ]
          },
          "metadata": {
            "tags": []
          },
          "execution_count": 21
        }
      ]
    },
    {
      "cell_type": "code",
      "metadata": {
        "id": "wjMoCeAYqVcm",
        "colab_type": "code",
        "outputId": "c23dfab8-802a-4018-9df0-4c70e836a9fb",
        "colab": {
          "base_uri": "https://localhost:8080/",
          "height": 34
        }
      },
      "source": [
        "!nproc"
      ],
      "execution_count": 0,
      "outputs": [
        {
          "output_type": "stream",
          "text": [
            "2\n"
          ],
          "name": "stdout"
        }
      ]
    },
    {
      "cell_type": "code",
      "metadata": {
        "id": "lZ1o7Cx4-9AF",
        "colab_type": "code",
        "colab": {}
      },
      "source": [
        "!git status | grep modified"
      ],
      "execution_count": 0,
      "outputs": []
    },
    {
      "cell_type": "code",
      "metadata": {
        "id": "hPic8USsF2DD",
        "colab_type": "code",
        "outputId": "308e4395-c4a7-4a38-b5f8-d53fb3caa175",
        "colab": {
          "base_uri": "https://localhost:8080/",
          "height": 61
        }
      },
      "source": [
        "import os\n",
        "os.environ['TF_CPP_MIN_LOG_LEVEL'] = '3'  # or any {'0', '1', '2'}\n",
        "import tensorflow as tf"
      ],
      "execution_count": 0,
      "outputs": [
        {
          "output_type": "display_data",
          "data": {
            "text/html": [
              "<p style=\"color: red;\">\n",
              "The default version of TensorFlow in Colab will soon switch to TensorFlow 2.x.<br>\n",
              "We recommend you <a href=\"https://www.tensorflow.org/guide/migrate\" target=\"_blank\">upgrade</a> now \n",
              "or ensure your notebook will continue to use TensorFlow 1.x via the <code>%tensorflow_version 1.x</code> magic:\n",
              "<a href=\"https://colab.research.google.com/notebooks/tensorflow_version.ipynb\" target=\"_blank\">more info</a>.</p>\n"
            ],
            "text/plain": [
              "<IPython.core.display.HTML object>"
            ]
          },
          "metadata": {
            "tags": []
          }
        }
      ]
    },
    {
      "cell_type": "code",
      "metadata": {
        "id": "_DiwgPmaMec0",
        "colab_type": "code",
        "outputId": "f39b54ca-70ac-4c35-bae6-86563ddacec7",
        "colab": {
          "base_uri": "https://localhost:8080/",
          "height": 1000
        }
      },
      "source": [
        "!python train.py"
      ],
      "execution_count": 0,
      "outputs": [
        {
          "output_type": "stream",
          "text": [
            "Using TensorFlow backend.\n",
            "\n",
            "Loading datas...\n",
            "Error loading video: /content/datasets/train/s1/sbbbzp less than 75 frames(74)\n",
            "Error loading video: /content/datasets/train/s1/sran9s less than 75 frames(0)\n",
            "Error loading video: /content/datasets/train/s1/brwa4p less than 75 frames(0)\n",
            "Error loading video: /content/datasets/train/s1/bwwuzn less than 75 frames(0)\n",
            "Error loading video: /content/datasets/train/s1/lrae3s less than 75 frames(74)\n",
            "Error loading video: /content/datasets/train/s1/brwg8p less than 75 frames(0)\n",
            "Error loading video: /content/datasets/train/s1/swao7a less than 75 frames(74)\n",
            "Error loading video: /content/datasets/train/s1/srbb4n less than 75 frames(74)\n",
            "Error loading video: /content/datasets/train/s1/bbizzn less than 75 frames(0)\n",
            "Error loading video: /content/datasets/train/s1/lgbf8n less than 75 frames(0)\n",
            "Error loading video: /content/datasets/train/s1/srwi5a less than 75 frames(74)\n",
            "Error loading video: /content/datasets/train/s1/lrarzn less than 75 frames(0)\n",
            "Error loading video: /content/datasets/train/s1/sbbh4p less than 75 frames(0)\n",
            "Error loading video: /content/datasets/val/s1/pbwx1s less than 75 frames(0)\n",
            "Error loading video: /content/datasets/val/s1/prii9a less than 75 frames(0)\n",
            "Error loading video: /content/datasets/val/s1/pbio7a less than 75 frames(0)\n",
            "Number of training videos =  787\n",
            "Number of validation videos =  197\n",
            "Steps per epoch  16\n",
            "\n",
            "WARNING:tensorflow:From /usr/local/lib/python3.6/dist-packages/keras/backend/tensorflow_backend.py:541: The name tf.placeholder is deprecated. Please use tf.compat.v1.placeholder instead.\n",
            "\n",
            "WARNING:tensorflow:From /usr/local/lib/python3.6/dist-packages/keras/backend/tensorflow_backend.py:4479: The name tf.truncated_normal is deprecated. Please use tf.random.truncated_normal instead.\n",
            "\n",
            "WARNING:tensorflow:From /usr/local/lib/python3.6/dist-packages/keras/backend/tensorflow_backend.py:66: The name tf.get_default_graph is deprecated. Please use tf.compat.v1.get_default_graph instead.\n",
            "\n",
            "WARNING:tensorflow:From /usr/local/lib/python3.6/dist-packages/keras/backend/tensorflow_backend.py:148: The name tf.placeholder_with_default is deprecated. Please use tf.compat.v1.placeholder_with_default instead.\n",
            "\n",
            "WARNING:tensorflow:From /usr/local/lib/python3.6/dist-packages/keras/backend/tensorflow_backend.py:3733: calling dropout (from tensorflow.python.ops.nn_ops) with keep_prob is deprecated and will be removed in a future version.\n",
            "Instructions for updating:\n",
            "Please use `rate` instead of `keep_prob`. Rate should be set to `rate = 1 - keep_prob`.\n",
            "WARNING:tensorflow:From /usr/local/lib/python3.6/dist-packages/tensorflow_core/python/ops/array_ops.py:1475: where (from tensorflow.python.ops.array_ops) is deprecated and will be removed in a future version.\n",
            "Instructions for updating:\n",
            "Use tf.where in 2.0, which has the same broadcast rule as np.where\n",
            "WARNING:tensorflow:From /usr/local/lib/python3.6/dist-packages/keras/backend/tensorflow_backend.py:4551: The name tf.log is deprecated. Please use tf.math.log instead.\n",
            "\n",
            "Model: \"model_2\"\n",
            "_________________________________________________________________\n",
            "Layer (type)                 Output Shape              Param #   \n",
            "=================================================================\n",
            "the_input (InputLayer)       (None, 75, 100, 50, 3)    0         \n",
            "_________________________________________________________________\n",
            "zero1 (ZeroPadding3D)        (None, 77, 104, 54, 3)    0         \n",
            "_________________________________________________________________\n",
            "conv1 (Conv3D)               (None, 75, 50, 25, 32)    7232      \n",
            "_________________________________________________________________\n",
            "batc1 (BatchNormalization)   (None, 75, 50, 25, 32)    128       \n",
            "_________________________________________________________________\n",
            "actv1 (Activation)           (None, 75, 50, 25, 32)    0         \n",
            "_________________________________________________________________\n",
            "spatial_dropout3d_1 (Spatial (None, 75, 50, 25, 32)    0         \n",
            "_________________________________________________________________\n",
            "max1 (MaxPooling3D)          (None, 75, 25, 12, 32)    0         \n",
            "_________________________________________________________________\n",
            "zero2 (ZeroPadding3D)        (None, 77, 29, 16, 32)    0         \n",
            "_________________________________________________________________\n",
            "conv2 (Conv3D)               (None, 75, 25, 12, 64)    153664    \n",
            "_________________________________________________________________\n",
            "batc2 (BatchNormalization)   (None, 75, 25, 12, 64)    256       \n",
            "_________________________________________________________________\n",
            "actv2 (Activation)           (None, 75, 25, 12, 64)    0         \n",
            "_________________________________________________________________\n",
            "spatial_dropout3d_2 (Spatial (None, 75, 25, 12, 64)    0         \n",
            "_________________________________________________________________\n",
            "max2 (MaxPooling3D)          (None, 75, 12, 6, 64)     0         \n",
            "_________________________________________________________________\n",
            "zero3 (ZeroPadding3D)        (None, 77, 14, 8, 64)     0         \n",
            "_________________________________________________________________\n",
            "conv3 (Conv3D)               (None, 75, 12, 6, 96)     165984    \n",
            "_________________________________________________________________\n",
            "batc3 (BatchNormalization)   (None, 75, 12, 6, 96)     384       \n",
            "_________________________________________________________________\n",
            "actv3 (Activation)           (None, 75, 12, 6, 96)     0         \n",
            "_________________________________________________________________\n",
            "spatial_dropout3d_3 (Spatial (None, 75, 12, 6, 96)     0         \n",
            "_________________________________________________________________\n",
            "max3 (MaxPooling3D)          (None, 75, 6, 3, 96)      0         \n",
            "_________________________________________________________________\n",
            "time_distributed_1 (TimeDist (None, 75, 1728)          0         \n",
            "_________________________________________________________________\n",
            "bidirectional_1 (Bidirection (None, 75, 512)           3048960   \n",
            "_________________________________________________________________\n",
            "bidirectional_2 (Bidirection (None, 75, 512)           1181184   \n",
            "_________________________________________________________________\n",
            "dense1 (Dense)               (None, 75, 28)            14364     \n",
            "_________________________________________________________________\n",
            "softmax (Activation)         (None, 75, 28)            0         \n",
            "=================================================================\n",
            "Total params: 4,572,156\n",
            "Trainable params: 4,571,772\n",
            "Non-trainable params: 384\n",
            "_________________________________________________________________\n",
            "WARNING:tensorflow:From /usr/local/lib/python3.6/dist-packages/keras/optimizers.py:793: The name tf.train.Optimizer is deprecated. Please use tf.compat.v1.train.Optimizer instead.\n",
            "\n",
            "train.py:80: UserWarning: Update your `fit_generator` call to the Keras 2 API: `fit_generator(generator=<generator..., steps_per_epoch=15.74, epochs=10, validation_data=<generator..., validation_steps=3.94, callbacks=[<generato..., initial_epoch=0, verbose=1, workers=2, use_multiprocessing=True, max_queue_size=5)`\n",
            "  pickle_safe=True)\n",
            "WARNING:tensorflow:From /usr/local/lib/python3.6/dist-packages/keras/backend/tensorflow_backend.py:1033: The name tf.assign_add is deprecated. Please use tf.compat.v1.assign_add instead.\n",
            "\n",
            "WARNING:tensorflow:From /usr/local/lib/python3.6/dist-packages/keras/backend/tensorflow_backend.py:1020: The name tf.assign is deprecated. Please use tf.compat.v1.assign instead.\n",
            "\n",
            "WARNING:tensorflow:From /usr/local/lib/python3.6/dist-packages/keras/backend/tensorflow_backend.py:3005: The name tf.Session is deprecated. Please use tf.compat.v1.Session instead.\n",
            "\n",
            "/usr/local/lib/python3.6/dist-packages/keras/engine/training_generator.py:49: UserWarning: Using a generator with `use_multiprocessing=True` and multiple workers may duplicate your data. Please consider using the `keras.utils.Sequence class.\n",
            "  UserWarning('Using a generator with `use_multiprocessing=True`'\n",
            "Epoch 1/10\n",
            "WARNING:tensorflow:From /usr/local/lib/python3.6/dist-packages/keras/backend/tensorflow_backend.py:190: The name tf.get_default_session is deprecated. Please use tf.compat.v1.get_default_session instead.\n",
            "\n",
            "WARNING:tensorflow:From /usr/local/lib/python3.6/dist-packages/keras/backend/tensorflow_backend.py:197: The name tf.ConfigProto is deprecated. Please use tf.compat.v1.ConfigProto instead.\n",
            "\n",
            "2020-03-16 12:12:03.382277: I tensorflow/core/platform/cpu_feature_guard.cc:142] Your CPU supports instructions that this TensorFlow binary was not compiled to use: AVX512F\n",
            "2020-03-16 12:12:03.417831: I tensorflow/core/platform/profile_utils/cpu_utils.cc:94] CPU Frequency: 2000160000 Hz\n",
            "2020-03-16 12:12:03.418911: I tensorflow/compiler/xla/service/service.cc:168] XLA service 0x40488000 initialized for platform Host (this does not guarantee that XLA will be used). Devices:\n",
            "2020-03-16 12:12:03.418960: I tensorflow/compiler/xla/service/service.cc:176]   StreamExecutor device (0): Host, Default Version\n",
            "2020-03-16 12:12:03.422496: I tensorflow/stream_executor/platform/default/dso_loader.cc:44] Successfully opened dynamic library libcuda.so.1\n",
            "2020-03-16 12:12:03.892768: I tensorflow/stream_executor/cuda/cuda_gpu_executor.cc:983] successful NUMA node read from SysFS had negative value (-1), but there must be at least one NUMA node, so returning NUMA node zero\n",
            "2020-03-16 12:12:03.893511: I tensorflow/compiler/xla/service/service.cc:168] XLA service 0x404881c0 initialized for platform CUDA (this does not guarantee that XLA will be used). Devices:\n",
            "2020-03-16 12:12:03.893568: I tensorflow/compiler/xla/service/service.cc:176]   StreamExecutor device (0): Tesla P4, Compute Capability 6.1\n",
            "2020-03-16 12:12:03.893899: I tensorflow/stream_executor/cuda/cuda_gpu_executor.cc:983] successful NUMA node read from SysFS had negative value (-1), but there must be at least one NUMA node, so returning NUMA node zero\n",
            "2020-03-16 12:12:03.894461: I tensorflow/core/common_runtime/gpu/gpu_device.cc:1618] Found device 0 with properties: \n",
            "name: Tesla P4 major: 6 minor: 1 memoryClockRate(GHz): 1.1135\n",
            "pciBusID: 0000:00:04.0\n",
            "2020-03-16 12:12:03.894894: I tensorflow/stream_executor/platform/default/dso_loader.cc:44] Successfully opened dynamic library libcudart.so.10.1\n",
            "2020-03-16 12:12:03.895017: I tensorflow/stream_executor/platform/default/dso_loader.cc:44] Successfully opened dynamic library libcublas.so.10\n",
            "2020-03-16 12:12:03.896781: I tensorflow/stream_executor/platform/default/dso_loader.cc:44] Successfully opened dynamic library libcufft.so.10\n",
            "2020-03-16 12:12:03.896869: I tensorflow/stream_executor/platform/default/dso_loader.cc:44] Successfully opened dynamic library libcurand.so.10\n",
            "2020-03-16 12:12:03.896915: I tensorflow/stream_executor/platform/default/dso_loader.cc:44] Successfully opened dynamic library libcusolver.so.10\n",
            "2020-03-16 12:12:03.897757: I tensorflow/stream_executor/platform/default/dso_loader.cc:44] Successfully opened dynamic library libcusparse.so.10\n",
            "2020-03-16 12:12:03.897842: I tensorflow/stream_executor/platform/default/dso_loader.cc:44] Successfully opened dynamic library libcudnn.so.7\n",
            "2020-03-16 12:12:03.897936: I tensorflow/stream_executor/cuda/cuda_gpu_executor.cc:983] successful NUMA node read from SysFS had negative value (-1), but there must be at least one NUMA node, so returning NUMA node zero\n",
            "2020-03-16 12:12:03.898505: I tensorflow/stream_executor/cuda/cuda_gpu_executor.cc:983] successful NUMA node read from SysFS had negative value (-1), but there must be at least one NUMA node, so returning NUMA node zero\n",
            "2020-03-16 12:12:03.898972: I tensorflow/core/common_runtime/gpu/gpu_device.cc:1746] Adding visible gpu devices: 0\n",
            "2020-03-16 12:12:03.899051: I tensorflow/stream_executor/platform/default/dso_loader.cc:44] Successfully opened dynamic library libcudart.so.10.1\n",
            "2020-03-16 12:12:03.901372: I tensorflow/core/common_runtime/gpu/gpu_device.cc:1159] Device interconnect StreamExecutor with strength 1 edge matrix:\n",
            "2020-03-16 12:12:03.901407: I tensorflow/core/common_runtime/gpu/gpu_device.cc:1165]      0 \n",
            "2020-03-16 12:12:03.901421: I tensorflow/core/common_runtime/gpu/gpu_device.cc:1178] 0:   N \n",
            "2020-03-16 12:12:03.901577: I tensorflow/stream_executor/cuda/cuda_gpu_executor.cc:983] successful NUMA node read from SysFS had negative value (-1), but there must be at least one NUMA node, so returning NUMA node zero\n",
            "2020-03-16 12:12:03.902125: I tensorflow/stream_executor/cuda/cuda_gpu_executor.cc:983] successful NUMA node read from SysFS had negative value (-1), but there must be at least one NUMA node, so returning NUMA node zero\n",
            "2020-03-16 12:12:03.902633: W tensorflow/core/common_runtime/gpu/gpu_bfc_allocator.cc:39] Overriding allow_growth setting because the TF_FORCE_GPU_ALLOW_GROWTH environment variable is set. Original config value was 0.\n",
            "2020-03-16 12:12:03.902698: I tensorflow/core/common_runtime/gpu/gpu_device.cc:1304] Created TensorFlow device (/job:localhost/replica:0/task:0/device:GPU:0 with 7123 MB memory) -> physical GPU (device: 0, name: Tesla P4, pci bus id: 0000:00:04.0, compute capability: 6.1)\n",
            "WARNING:tensorflow:From /usr/local/lib/python3.6/dist-packages/keras/backend/tensorflow_backend.py:207: The name tf.global_variables is deprecated. Please use tf.compat.v1.global_variables instead.\n",
            "\n",
            "WARNING:tensorflow:From /usr/local/lib/python3.6/dist-packages/keras/backend/tensorflow_backend.py:216: The name tf.is_variable_initialized is deprecated. Please use tf.compat.v1.is_variable_initialized instead.\n",
            "\n",
            "WARNING:tensorflow:From /usr/local/lib/python3.6/dist-packages/keras/backend/tensorflow_backend.py:223: The name tf.variables_initializer is deprecated. Please use tf.compat.v1.variables_initializer instead.\n",
            "\n",
            "2020-03-16 12:12:19.954919: I tensorflow/stream_executor/platform/default/dso_loader.cc:44] Successfully opened dynamic library libcublas.so.10\n",
            "2020-03-16 12:12:21.298924: I tensorflow/stream_executor/platform/default/dso_loader.cc:44] Successfully opened dynamic library libcudnn.so.7\n",
            "16/15 [==============================] - 80s 5s/step - loss: 101.5207 - val_loss: 85.7582\n",
            "Epoch 2/10\n",
            "16/15 [==============================] - 53s 3s/step - loss: 75.0192 - val_loss: 80.4401\n",
            "Epoch 3/10\n",
            " 3/15 [====>.........................] - ETA: 46s - loss: 73.1094Process ForkPoolWorker-1:\n",
            "Traceback (most recent call last):\n",
            "  File \"/usr/lib/python3.6/multiprocessing/process.py\", line 258, in _bootstrap\n",
            "    self.run()\n",
            "  File \"/usr/lib/python3.6/multiprocessing/process.py\", line 93, in run\n",
            "    self._target(*self._args, **self._kwargs)\n",
            "  File \"/usr/lib/python3.6/multiprocessing/pool.py\", line 119, in worker\n",
            "    result = (True, func(*args, **kwds))\n",
            "  File \"/usr/local/lib/python3.6/dist-packages/keras/utils/data_utils.py\", line 641, in next_sample\n",
            "    return six.next(_SHARED_SEQUENCES[uid])\n",
            "  File \"/content/generators.py\", line 31, in __next__\n",
            "    return next(self.it)\n",
            "  File \"/content/generators.py\", line 245, in next_val\n",
            "    ret = self.get_batch(val_index, self.minibatch_size, train=False)\n",
            "  File \"/content/generators.py\", line 181, in get_batch\n",
            "    X_data = np.array(X_data).astype(np.float32) / 255 # Normalize image data to [0,1], TODO: mean normalization over training data\n",
            "KeyboardInterrupt\n",
            "Traceback (most recent call last):\n",
            "  File \"train.py\", line 87, in <module>\n",
            "    train(run_name, 0, 10, 3, 100, 50, 75, 32,28, 50)\n",
            "  File \"train.py\", line 80, in train\n",
            "    pickle_safe=True)\n",
            "  File \"/usr/local/lib/python3.6/dist-packages/keras/legacy/interfaces.py\", line 91, in wrapper\n",
            "    return func(*args, **kwargs)\n",
            "  File \"/usr/local/lib/python3.6/dist-packages/keras/engine/training.py\", line 1658, in fit_generator\n",
            "    initial_epoch=initial_epoch)\n",
            "  File \"/usr/local/lib/python3.6/dist-packages/keras/engine/training_generator.py\", line 215, in fit_generator\n",
            "    class_weight=class_weight)\n",
            "  File \"/usr/local/lib/python3.6/dist-packages/keras/engine/training.py\", line 1449, in train_on_batch\n",
            "    outputs = self.train_function(ins)\n",
            "  File \"/usr/local/lib/python3.6/dist-packages/keras/backend/tensorflow_backend.py\", line 2979, in __call__\n",
            "    return self._call(inputs)\n",
            "  File \"/usr/local/lib/python3.6/dist-packages/keras/backend/tensorflow_backend.py\", line 2937, in _call\n",
            "    fetched = self._callable_fn(*array_vals)\n",
            "  File \"/usr/local/lib/python3.6/dist-packages/tensorflow_core/python/client/session.py\", line 1472, in __call__\n",
            "    run_metadata_ptr)\n",
            "KeyboardInterrupt\n"
          ],
          "name": "stdout"
        }
      ]
    },
    {
      "cell_type": "code",
      "metadata": {
        "id": "Q7Imy4ctELOO",
        "colab_type": "code",
        "colab": {}
      },
      "source": [
        "!rm -rf *.py"
      ],
      "execution_count": 0,
      "outputs": []
    },
    {
      "cell_type": "code",
      "metadata": {
        "id": "MA8HW2zC93hh",
        "colab_type": "code",
        "outputId": "1006feff-3d02-4553-c3ff-5b28a644fd39",
        "colab": {
          "resources": {
            "http://localhost:8080/nbextensions/google.colab/files.js": {
              "data": "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",
              "ok": true,
              "headers": [
                [
                  "content-type",
                  "application/javascript"
                ]
              ],
              "status": 200,
              "status_text": ""
            }
          },
          "base_uri": "https://localhost:8080/",
          "height": 56
        }
      },
      "source": [
        "from google.colab import files\n",
        "files.upload()"
      ],
      "execution_count": 0,
      "outputs": [
        {
          "output_type": "display_data",
          "data": {
            "text/html": [
              "\n",
              "     <input type=\"file\" id=\"files-ec389244-a6c4-47b3-9a47-967d3fb2ce35\" name=\"files[]\" multiple disabled />\n",
              "     <output id=\"result-ec389244-a6c4-47b3-9a47-967d3fb2ce35\">\n",
              "      Upload widget is only available when the cell has been executed in the\n",
              "      current browser session. Please rerun this cell to enable.\n",
              "      </output>\n",
              "      <script src=\"/nbextensions/google.colab/files.js\"></script> "
            ],
            "text/plain": [
              "<IPython.core.display.HTML object>"
            ]
          },
          "metadata": {
            "tags": []
          }
        },
        {
          "output_type": "execute_result",
          "data": {
            "text/plain": [
              "{}"
            ]
          },
          "metadata": {
            "tags": []
          },
          "execution_count": 5
        }
      ]
    }
  ]
}